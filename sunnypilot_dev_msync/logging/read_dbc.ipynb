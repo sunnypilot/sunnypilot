{
 "cells": [
  {
   "cell_type": "code",
   "execution_count": null,
   "id": "44356cc2",
   "metadata": {},
   "outputs": [
    {
     "ename": "",
     "evalue": "",
     "output_type": "error",
     "traceback": [
      "\u001b[1;31mRunning cells with 'Python 3.12.3' requires the ipykernel package.\n",
      "\u001b[1;31mInstall 'ipykernel' into the Python environment. \n",
      "\u001b[1;31mCommand: '/usr/bin/python3 -m pip install ipykernel -U --user --force-reinstall'"
     ]
    }
   ],
   "source": [
    "import can\n",
    "import cantools\n",
    "import os\n",
    "import re"
   ]
  },
  {
   "cell_type": "code",
   "execution_count": null,
   "id": "32a90f7c",
   "metadata": {},
   "outputs": [
    {
     "ename": "",
     "evalue": "",
     "output_type": "error",
     "traceback": [
      "\u001b[1;31mRunning cells with 'Python 3.12.3' requires the ipykernel package.\n",
      "\u001b[1;31mInstall 'ipykernel' into the Python environment. \n",
      "\u001b[1;31mCommand: '/usr/bin/python3 -m pip install ipykernel -U --user --force-reinstall'"
     ]
    }
   ],
   "source": [
    "dbc_file = './data/DS-Bus_500BPCS.dbc'\n",
    "db = cantools.database.load_file(dbc_file)"
   ]
  },
  {
   "cell_type": "code",
   "execution_count": 7,
   "id": "cc01c525",
   "metadata": {},
   "outputs": [
    {
     "name": "stdout",
     "output_type": "stream",
     "text": [
      "Number of messages: 38\n",
      "Number of nodes: 10\n",
      "\n",
      "Message: CGW1G01\n",
      "  Frame ID: 0xf\n",
      "  Sender(s): []\n",
      "  Signals: ['TRIPCNT', 'RESETCNT', 'KZK00F']\n",
      "\n",
      "Message: ACC1F01\n",
      "  Frame ID: 0x344\n",
      "  Sender(s): ['FCM']\n",
      "  Signals: ['DSS1GDRV', 'PREFILL', 'AVSTRGR', 'PBPREPMP', 'PCSALM', 'PCSOPR', 'PBRTRGR', 'PBATRGR', 'PPTRGR', 'IBTRGR', 'BRKHLD', 'VGRSTRGR', 'FV344', 'KZK344']\n",
      "\n",
      "Message: ACC1S03\n",
      "  Frame ID: 0x343\n",
      "  Sender(s): ['FCM']\n",
      "  Signals: ['ACCTYPE', 'XTRGT2', 'XLTMD2', 'LCDT2', 'LCNG', 'SMC', 'STOKJD', 'PMTBRKG', 'LCCWOK', 'LCBW2', 'AT_RAW', 'ACC03SUM']\n",
      "\n",
      "Message: ACC1S09\n",
      "  Frame ID: 0x2e4\n",
      "  Sender(s): ['FCM']\n",
      "  Signals: ['LKEXIST', 'LKCOUNT', 'LKFACT', 'LKTRQ', 'LKKPACT', 'FV2E4', 'KZK2E4']\n",
      "\n",
      "Message: ACC1S11\n",
      "  Frame ID: 0x183\n",
      "  Sender(s): ['FCM']\n",
      "  Signals: ['ATACC2', 'FV183', 'KZK183']\n",
      "\n"
     ]
    }
   ],
   "source": [
    "\n",
    "print(f\"Number of messages: {len(db.messages)}\")\n",
    "print(f\"Number of nodes: {len(db.nodes)}\\n\")\n",
    "\n",
    "for msg in db.messages[:5]:\n",
    "    print(f\"Message: {msg.name}\")\n",
    "    print(f\"  Frame ID: {hex(msg.frame_id)}\")\n",
    "    print(f\"  Sender(s): {msg.senders}\")\n",
    "    print(f\"  Signals: {[signal.name for signal in msg.signals]}\")\n",
    "    print()\n"
   ]
  },
  {
   "cell_type": "code",
   "execution_count": null,
   "id": "9fa2c568",
   "metadata": {},
   "outputs": [],
   "source": [
    "with open(log_file) as f:\n",
    "    for line in f:\n",
    "        m = line_re.match(line)\n",
    "        if not m:\n",
    "            continue\n",
    "        can_id = int(m.group(1), 16)\n",
    "        data = bytes.fromhex(m.group(2))\n",
    "        try:\n",
    "            msg = db.get_message_by_frame_id(can_id)\n",
    "            decoded = msg.decode(data)\n",
    "            print(f\"{msg.name} ({hex(can_id)}): {decoded}\")\n",
    "        except Exception as e:\n",
    "            print(f\"ID {hex(can_id)}: {data.hex()} (not in DBC or decode error)\")"
   ]
  }
 ],
 "metadata": {
  "kernelspec": {
   "display_name": "Python 3",
   "language": "python",
   "name": "python3"
  },
  "language_info": {
   "codemirror_mode": {
    "name": "ipython",
    "version": 3
   },
   "file_extension": ".py",
   "mimetype": "text/x-python",
   "name": "python",
   "nbconvert_exporter": "python",
   "pygments_lexer": "ipython3",
   "version": "3.12.3"
  }
 },
 "nbformat": 4,
 "nbformat_minor": 5
}
